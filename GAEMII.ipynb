{
 "cells": [
  {
   "cell_type": "markdown",
   "metadata": {},
   "source": [
    "## Geometric Algebra\n",
    "\n",
    "#### An unified language for Physics\n",
    "\n",
    "<blockquote><small>“.  .  .  it is a good thing to have two ways of looking at a subject, and to admit that there\n",
    "        are two ways of looking at it.” - James Clerk Maxwell (1831-1879)</small>\n",
    "\n",
    "    <p></p>\n",
    "<small>\"...for geometry, you know, is the gate of science and the gate is so low and small that\n",
    "        one can only enter it as a little child.” - William Kingdom Clifford (1845-1879)</small></blockquote>\n",
    "\n",
    "\n"
   ]
  },
  {
   "cell_type": "markdown",
   "metadata": {},
   "source": [
    "\n",
    "<h3>The Protagonist </h3>\n",
    "<div class=\"altpanel\" style=\"height: 9%;\">\n",
    "<div>\n",
    "<img width=\"150\" src=\"images/grass.jpg\" alt=\"Grenoble INP\" class=\"logo\" /> \n",
    "<img width=\"120\" src=\"images/hamiltonstamp.jpg\" alt=\"Grenoble INP\" class=\"logo\" /> \n",
    "                                                                                                                                    </div>\n",
    "\n",
    "                                                                                                                                                                    <div>\n",
    "                                                                                                                                                                                                            <img width=\"150\" src=\"images/clif.jpg\" alt=\"Grenoble INP\" class=\"logo\" />\n",
    "                                                                                                                                                                                                                                                <img width=\"150\" src=\"images/hestenes.png\" alt=\"G-SCOP\" class=\"logo\" />\n",
    "                                                                                                                                                                                                                                                                                                                    </div>\n",
    "</div>\n"
   ]
  },
  {
   "cell_type": "markdown",
   "metadata": {},
   "source": [
    "$$\\gamma_0^2=1, \\gamma_k^2=-1$$\n",
    "\n",
    "and $$\\gamma_\\mu \\cdot \\gamma_\\mu$$\n",
    "and $$\\gamma_\\mu \\cdot \\gamma_\\nu$$\n"
   ]
  },
  {
   "cell_type": "code",
   "execution_count": null,
   "metadata": {},
   "outputs": [],
   "source": []
  }
 ],
 "metadata": {
  "kernelspec": {
   "display_name": "Python 3",
   "language": "python",
   "name": "python3"
  },
  "language_info": {
   "codemirror_mode": {
    "name": "ipython",
    "version": 3
   },
   "file_extension": ".py",
   "mimetype": "text/x-python",
   "name": "python",
   "nbconvert_exporter": "python",
   "pygments_lexer": "ipython3",
   "version": "3.7.0"
  }
 },
 "nbformat": 4,
 "nbformat_minor": 2
}
